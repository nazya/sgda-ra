{
 "cells": [
  {
   "cell_type": "code",
   "execution_count": 7,
   "id": "3ea397aa",
   "metadata": {},
   "outputs": [],
   "source": [
    "import math\n",
    "import torch\n",
    "from gamesopt.train_distributed import train, BaseConfig, BaseData\n",
    "from gamesopt.games import GameType\n",
    "from gamesopt.optimizer.base import OptimizerType\n",
    "from gamesopt.aggregator import AggregatorType\n",
    "from gamesopt.attacks import AttackType\n",
    "from gamesopt.games.utils import create_matrix\n",
    "from dataclasses import dataclass\n",
    "\n",
    "# %matplotlib widget\n",
    "%matplotlib inline\n",
    "%load_ext autoreload\n",
    "%autoreload 1"
   ]
  },
  {
   "cell_type": "code",
   "execution_count": 9,
   "id": "b32fab70-6504-411e-99f7-3f5897883d8c",
   "metadata": {},
   "outputs": [
    {
     "data": {
      "text/plain": [
       "['', 'home', 'nazya', 'sgda-ra']"
      ]
     },
     "execution_count": 9,
     "metadata": {},
     "output_type": "execute_result"
    }
   ],
   "source": [
    "import os\n",
    "# os.environ['MLFLOW_TRACKING_URI'] += os.getcwd().split('/')[-1]\n",
    "os.getcwd().split('/')"
   ]
  },
  {
   "cell_type": "code",
   "execution_count": 10,
   "id": "6874e6d6-dd23-4613-9e3b-1ea2f58263cd",
   "metadata": {},
   "outputs": [],
   "source": [
    "import os\n",
    "os.environ['MLFLOW_VERBOSE'] = 'True'\n",
    "os.environ['MLFLOW_EXPERIMENT_NAME'] = 'Default'\n",
    "os.environ['MLFLOW_TRACKING_URI'] = '/home/nazya/mlruns/' + os.getcwd().split('/')[-1]\n",
    "# os.system('mlflow ui --backend-store-uri /home/nazya/mlruns')"
   ]
  },
  {
   "cell_type": "code",
   "execution_count": 17,
   "id": "5eb712f9-6670-40ec-89fd-3f247da21ee3",
   "metadata": {},
   "outputs": [],
   "source": [
    "config = {\n",
    "    'n_iter': 6001,\n",
    "    'n_peers': 20,\n",
    "    'n_byzan': 4,\n",
    "    'game_type': GameType.QUADRATIC,\n",
    "    'num_samples': 1000,\n",
    "    'dim': 16,\n",
    "    'with_bias': True,\n",
    "    'mu': 0.1,\n",
    "    'ell': 1000.0,\n",
    "    'attack_type': AttackType.ALIE,\n",
    "    'n_attacking': 1,\n",
    "    'ipm_epsilon': 0.1,\n",
    "    'rn_sigma': 10.0,\n",
    "    'alie_z': 100.0,\n",
    "    'use_bucketing': True,\n",
    "    'bucketing_s': 2,\n",
    "    'aggregator_type': AggregatorType.RFA,\n",
    "    'trimmed_mean_b': 10,\n",
    "    'krum_m': 2,\n",
    "    'clipping_tau': 10,\n",
    "    'clipping_n_iter': 3,\n",
    "    'rfa_T': 10,\n",
    "    'rfa_nu': 0.1,\n",
    "    'optimizer_type': OptimizerType.SGDARA,\n",
    "    'alpha': 0.1,\n",
    "    'lr': 3.3333333333333335e-05,\n",
    "    'lr_inner': 3.3333333333333335e-05,\n",
    "    'lr_outer': 3.3333333333333335e-05,\n",
    "    'sigmaC': 100.0,\n",
    "    'batch_size': 1,\n",
    "}"
   ]
  },
  {
   "cell_type": "code",
   "execution_count": 11,
   "id": "ed0a228e-29fc-48c3-8394-fe7ff6f54357",
   "metadata": {},
   "outputs": [],
   "source": [
    "@dataclass\n",
    "class Config(BaseConfig):\n",
    "    n_iter: int = 6001\n",
    "\n",
    "    n_peers: int = 20\n",
    "    n_byzan: int = 4\n",
    "\n",
    "    game_type: GameType = GameType.QUADRATIC\n",
    "    num_samples: int = 1000\n",
    "    dim: int = 16\n",
    "    with_bias: bool = True\n",
    "    mu: float = 1e-1\n",
    "    ell: float = 1e3\n",
    "\n",
    "    attack_type: AttackType = AttackType.ALIE\n",
    "    n_attacking: int = 1\n",
    "    ipm_epsilon: float = 1e-1\n",
    "    rn_sigma: float = 1e1\n",
    "    alie_z: float = 1e2\n",
    "\n",
    "    use_bucketing: bool = True\n",
    "    bucketing_s: int = 2\n",
    "    aggregator_type: AggregatorType = AggregatorType.RFA\n",
    "    trimmed_mean_b: int = 10\n",
    "    krum_m: int = 2\n",
    "    clipping_tau: int = 10\n",
    "    clipping_n_iter: int = 3\n",
    "    rfa_T: int = 10\n",
    "    rfa_nu: int = 0.1\n",
    "\n",
    "    optimizer_type: OptimizerType = OptimizerType.SGDARA\n",
    "    alpha: float = 0.1\n",
    "    lr: float = 1/2/ell/15\n",
    "    lr_inner: float = lr\n",
    "    lr_outer: float = lr\n",
    "    sigmaC: float = 100.\n",
    "    batch_size: int = 1"
   ]
  },
  {
   "cell_type": "code",
   "execution_count": 12,
   "id": "030aaeb5-5af3-4c52-8af1-985cfec1c345",
   "metadata": {},
   "outputs": [],
   "source": [
    "@dataclass\n",
    "class Data(BaseData):\n",
    "    def __init__(self, config: BaseConfig):\n",
    "        self.matrix, self.bias = create_matrix(config.dim, config.num_samples,\n",
    "                                               config.mu,\n",
    "                                               config.ell,\n",
    "                                               with_bias=config.with_bias)\n",
    "        self.true = torch.linalg.solve(self.matrix.mean(dim=0),\n",
    "                                       -self.bias.mean(dim=0))\n",
    "        self.players = self.true + .1/math.sqrt(2 * config.dim)"
   ]
  },
  {
   "cell_type": "code",
   "execution_count": 13,
   "id": "d4c9f25d-4361-4c33-bc62-798671b33d11",
   "metadata": {},
   "outputs": [],
   "source": [
    "config = Config()\n",
    "data = Data(config)"
   ]
  },
  {
   "cell_type": "code",
   "execution_count": 14,
   "id": "183f5cdc-abbc-41eb-a9ea-f95e08cf13de",
   "metadata": {},
   "outputs": [
    {
     "data": {
      "text/plain": [
       "{'n_iter': 6001,\n",
       " 'n_peers': 20,\n",
       " 'n_byzan': 4,\n",
       " 'game_type': <GameType.QUADRATIC: 'quadratic'>,\n",
       " 'num_samples': 1000,\n",
       " 'dim': 16,\n",
       " 'with_bias': True,\n",
       " 'mu': 0.1,\n",
       " 'ell': 1000.0,\n",
       " 'attack_type': <AttackType.ALIE: 'ALittleIsEnough'>,\n",
       " 'n_attacking': 1,\n",
       " 'ipm_epsilon': 0.1,\n",
       " 'rn_sigma': 10.0,\n",
       " 'alie_z': 100.0,\n",
       " 'use_bucketing': True,\n",
       " 'bucketing_s': 2,\n",
       " 'aggregator_type': <AggregatorType.RFA: 'RFA'>,\n",
       " 'trimmed_mean_b': 10,\n",
       " 'krum_m': 2,\n",
       " 'clipping_tau': 10,\n",
       " 'clipping_n_iter': 3,\n",
       " 'rfa_T': 10,\n",
       " 'rfa_nu': 0.1,\n",
       " 'optimizer_type': <OptimizerType.SGDARA: '>'>,\n",
       " 'alpha': 0.1,\n",
       " 'lr': 3.3333333333333335e-05,\n",
       " 'lr_inner': 3.3333333333333335e-05,\n",
       " 'lr_outer': 3.3333333333333335e-05,\n",
       " 'sigmaC': 100.0,\n",
       " 'batch_size': 1}"
      ]
     },
     "execution_count": 14,
     "metadata": {},
     "output_type": "execute_result"
    }
   ],
   "source": [
    "config.__dict__"
   ]
  },
  {
   "cell_type": "code",
   "execution_count": null,
   "id": "27fc0c19-30b1-4a14-9d1f-62e59103b683",
   "metadata": {},
   "outputs": [],
   "source": [
    "config = Config()\n",
    "config.optimizer_type = OptimizerType.SGDARA\n",
    "config.aggregator_type = AggregatorType.Mean\n",
    "config.n_attacking = config.n_byzan\n",
    "train(BaseConfig(**config.__dict__), BaseData(**data.__dict__))"
   ]
  },
  {
   "cell_type": "code",
   "execution_count": 11,
   "id": "8f837feb-a62f-4a37-8470-912f5f203faf",
   "metadata": {},
   "outputs": [
    {
     "name": "stdout",
     "output_type": "stream",
     "text": [
      "Trying port 32401\n",
      "0            \r"
     ]
    }
   ],
   "source": [
    "config = Config()\n",
    "config.optimizer_type = OptimizerType.SGDARA\n",
    "config.n_attacking = config.n_byzan\n",
    "train(BaseConfig(**config.__dict__), BaseData(**data.__dict__))"
   ]
  },
  {
   "cell_type": "code",
   "execution_count": 12,
   "id": "05eff9b6-3c22-4e8b-96db-8020da4d59cd",
   "metadata": {},
   "outputs": [
    {
     "name": "stdout",
     "output_type": "stream",
     "text": [
      "Trying port 31863\n",
      "0            \r"
     ]
    }
   ],
   "source": [
    "config = Config()\n",
    "config.optimizer_type = OptimizerType.MSGDARA\n",
    "config.n_attacking = config.n_byzan\n",
    "config.alpha = 0.1\n",
    "train(BaseConfig(**config.__dict__), BaseData(**data.__dict__))"
   ]
  },
  {
   "cell_type": "code",
   "execution_count": 15,
   "id": "bd492df1-1622-4989-8758-f6f36ff9593d",
   "metadata": {},
   "outputs": [
    {
     "name": "stdout",
     "output_type": "stream",
     "text": [
      "Trying port 12955\n",
      "0            \r"
     ]
    }
   ],
   "source": [
    "config = Config()\n",
    "config.optimizer_type = OptimizerType.SGDACC\n",
    "config.n_attacking = 1\n",
    "train(BaseConfig(**config.__dict__), BaseData(**data.__dict__))"
   ]
  },
  {
   "cell_type": "code",
   "execution_count": 16,
   "id": "154fe3c0-21b7-4149-9c9f-3564c495e1bc",
   "metadata": {},
   "outputs": [
    {
     "name": "stdout",
     "output_type": "stream",
     "text": [
      "Trying port 3995\n",
      "0            \r"
     ]
    }
   ],
   "source": [
    "config = Config()\n",
    "config.optimizer_type = OptimizerType.SEGCC\n",
    "config.n_attacking = 1\n",
    "config.n_iter = int(config.n_iter / 2) + 1\n",
    "train(BaseConfig(**config.__dict__), BaseData(**data.__dict__))"
   ]
  },
  {
   "cell_type": "code",
   "execution_count": 14,
   "id": "21fdc31b-1b3e-4893-9383-0dc6ba0fda5d",
   "metadata": {},
   "outputs": [
    {
     "name": "stdout",
     "output_type": "stream",
     "text": [
      "Trying port 5969\n",
      "0            \r"
     ]
    }
   ],
   "source": [
    "config = Config()\n",
    "config.n_iter = int(config.n_iter / 2) + 1\n",
    "config.n_attacking = config.n_byzan\n",
    "config.optimizer_type = OptimizerType.RDEG\n",
    "train(BaseConfig(**config.__dict__), BaseData(**data.__dict__))"
   ]
  },
  {
   "cell_type": "code",
   "execution_count": null,
   "id": "a0e24a7d-b098-45bb-817e-fbf3564c9c12",
   "metadata": {},
   "outputs": [],
   "source": []
  }
 ],
 "metadata": {
  "kernelspec": {
   "display_name": "Python 3 (ipykernel)",
   "language": "python",
   "name": "python3"
  },
  "language_info": {
   "codemirror_mode": {
    "name": "ipython",
    "version": 3
   },
   "file_extension": ".py",
   "mimetype": "text/x-python",
   "name": "python",
   "nbconvert_exporter": "python",
   "pygments_lexer": "ipython3",
   "version": "3.9.15"
  },
  "vscode": {
   "interpreter": {
    "hash": "18f7a5ae47153a9b42c5447ccb1bbe68959e117ab7750209e163c7c253c9e013"
   }
  },
  "widgets": {
   "application/vnd.jupyter.widget-state+json": {
    "state": {},
    "version_major": 2,
    "version_minor": 0
   }
  }
 },
 "nbformat": 4,
 "nbformat_minor": 5
}
