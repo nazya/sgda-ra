{
 "cells": [
  {
   "cell_type": "code",
   "execution_count": 1,
   "id": "3ea397aa",
   "metadata": {},
   "outputs": [],
   "source": [
    "import os\n",
    "import math\n",
    "import torch\n",
    "from dataclasses import dataclass, field\n",
    "\n",
    "from gamesopt.attacks import Attack\n",
    "from gamesopt.optimizer import Optimizer\n",
    "from gamesopt.aggregator import Aggregator\n",
    "from gamesopt.games import Game, create_matrix, create_bias\n",
    "from gamesopt.train_distributed import train\n",
    "\n",
    "# %matplotlib widget\n",
    "%matplotlib inline\n",
    "%load_ext autoreload\n",
    "%autoreload 1"
   ]
  },
  {
   "cell_type": "code",
   "execution_count": 3,
   "id": "8e7c7128-365e-4aa7-832f-227e2e0e90af",
   "metadata": {},
   "outputs": [],
   "source": [
    "# for tag in os.environ['MLFLOW_RUN_TAG'].split():\n",
    "#     print(tag)"
   ]
  },
  {
   "cell_type": "code",
   "execution_count": 4,
   "id": "6874e6d6-dd23-4613-9e3b-1ea2f58263cd",
   "metadata": {},
   "outputs": [],
   "source": [
    "os.environ['MLFLOW_VERBOSE'] = 'True'\n",
    "os.environ['MLFLOW_EXPERIMENT_NAME'] = os.path.basename(os.getcwd()) + 'lr'"
   ]
  },
  {
   "cell_type": "code",
   "execution_count": 5,
   "id": "ed0a228e-29fc-48c3-8394-fe7ff6f54357",
   "metadata": {},
   "outputs": [],
   "source": [
    "# class Config(BaseConfig):\n",
    "@dataclass\n",
    "class Config():\n",
    "    n_iter: int = 6001\n",
    "\n",
    "    n_peers: int = 20\n",
    "    n_byzan: int = 4\n",
    "\n",
    "    game: Game = Game.Quadratic\n",
    "    # game: Game = field(default_factory=lambda: Game.Quadratic)\n",
    "    num_samples: int = 1000\n",
    "    dim: int = 10\n",
    "    with_bias: bool = True\n",
    "    mu: float = 1e-1\n",
    "    ell: float = 1e3\n",
    "\n",
    "    optimizer: Optimizer = None\n",
    "    batch_size: int = None\n",
    "    lr: float = 1/2/ell/15\n",
    "    alpha: float = None\n",
    "    sigmaC: float = None\n",
    "\n",
    "    attack: Attack = None\n",
    "    n_attacking: int = None\n",
    "    attack_param: float = None\n",
    "\n",
    "    use_bucketing: bool = None\n",
    "    bucketing_s: int = 2\n",
    "\n",
    "    aggregator: Aggregator = None\n",
    "    aggregator_param_a: int = 10  # trimmed_mean_b=10; krum_m=2; ,clipping_n_iter=3 clipping_tau=10\n",
    "    aggregator_param_b: float = 0.1 # rfa_T=10,rfa_nu=0.1    , 0.1)  # rfa_T=10,rfa_nu=0.1"
   ]
  },
  {
   "cell_type": "code",
   "execution_count": 6,
   "id": "030aaeb5-5af3-4c52-8af1-985cfec1c345",
   "metadata": {},
   "outputs": [],
   "source": [
    "@dataclass\n",
    "class Data():\n",
    "    def __init__(self, config):\n",
    "        self.matrix = create_matrix(config.dim, config.num_samples,\n",
    "                                    config.mu, config.ell,\n",
    "                                    with_bias=config.with_bias)\n",
    "        self.bias = create_bias(config.dim, config.num_samples,\n",
    "                                with_bias=config.with_bias)\n",
    "        self.true = torch.linalg.solve(self.matrix.mean(dim=0),\n",
    "                                       -self.bias.mean(dim=0))\n",
    "        self.players = self.true + .1/math.sqrt(2 * config.dim)"
   ]
  },
  {
   "cell_type": "code",
   "execution_count": 7,
   "id": "a578f46b-34c3-421a-b195-ec4c0a8bb00d",
   "metadata": {},
   "outputs": [],
   "source": [
    "base_config = Config()\n",
    "data = Data(base_config)"
   ]
  },
  {
   "cell_type": "code",
   "execution_count": 31,
   "id": "ce0012d1-5213-4199-a801-b76135a86310",
   "metadata": {},
   "outputs": [],
   "source": [
    "batch_size = 100\n",
    "attack = Attack.ALIE"
   ]
  },
  {
   "cell_type": "code",
   "execution_count": 32,
   "id": "0f060ea2-5141-4d22-9ce5-1414c918d9c6",
   "metadata": {},
   "outputs": [
    {
     "name": "stdout",
     "output_type": "stream",
     "text": [
      "Trying port 4966\n",
      "<enum 'Game'>\n",
      "0            \r"
     ]
    }
   ],
   "source": [
    "config = Config(batch_size=batch_size, attack=attack)\n",
    "config.optimizer = Optimizer.SGDA\n",
    "config.aggregator = Aggregator.Mean\n",
    "config.n_attacking = config.n_byzan\n",
    "os.environ['MLFLOW_RUN_TAG'] = 'RA'\n",
    "os.environ['MLFLOW_RUN_NAME'] = str(config.optimizer)\n",
    "os.environ['MLFLOW_RUN_TITLE'] = ''\n",
    "train(config, data)"
   ]
  },
  {
   "cell_type": "code",
   "execution_count": 11,
   "id": "9835f09c-db0d-4037-b6b4-7339740e5542",
   "metadata": {},
   "outputs": [
    {
     "name": "stdout",
     "output_type": "stream",
     "text": [
      "Trying port 22282\n"
     ]
    },
    {
     "ename": "ProcessRaisedException",
     "evalue": "\n\n-- Process 1 terminated with the following error:\nTraceback (most recent call last):\n  File \"/home/nazya/miniconda3/lib/python3.9/site-packages/torch/multiprocessing/spawn.py\", line 59, in _wrap\n    fn(i, *args)\n  File \"/home/nazya/sgda-ra/gamesopt/train_distributed.py\", line 60, in _train\n    optimizer = load_distributed_optimizer(config, data, rank)\n  File \"/home/nazya/sgda-ra/gamesopt/train_distributed.py\", line 19, in load_distributed_optimizer\n    return SGDARA(config, data, rank)\n  File \"/home/nazya/sgda-ra/gamesopt/optimizer/distributed.py\", line 42, in __init__\n    self.aggregator = load_bucketing(config)\n  File \"/home/nazya/sgda-ra/gamesopt/aggregator/__init__.py\", line 29, in load_bucketing\n    return Bucketing(config)\n  File \"/home/nazya/sgda-ra/gamesopt/aggregator/__init__.py\", line 37, in __init__\n    self.aggregator = load_aggregator(config)\n  File \"/home/nazya/sgda-ra/gamesopt/aggregator/__init__.py\", line 24, in load_aggregator\n    raise NotImplementedError()\nNotImplementedError\n",
     "output_type": "error",
     "traceback": [
      "\u001b[0;31m---------------------------------------------------------------------------\u001b[0m",
      "\u001b[0;31mProcessRaisedException\u001b[0m                    Traceback (most recent call last)",
      "Cell \u001b[0;32mIn [11], line 8\u001b[0m\n\u001b[1;32m      6\u001b[0m os\u001b[38;5;241m.\u001b[39menviron[\u001b[38;5;124m'\u001b[39m\u001b[38;5;124mMLFLOW_RUN_NAME\u001b[39m\u001b[38;5;124m'\u001b[39m] \u001b[38;5;241m=\u001b[39m \u001b[38;5;28mstr\u001b[39m(config\u001b[38;5;241m.\u001b[39moptimizer)\n\u001b[1;32m      7\u001b[0m os\u001b[38;5;241m.\u001b[39menviron[\u001b[38;5;124m'\u001b[39m\u001b[38;5;124mMLFLOW_RUN_TITLE\u001b[39m\u001b[38;5;124m'\u001b[39m] \u001b[38;5;241m=\u001b[39m \u001b[38;5;124m'\u001b[39m\u001b[38;5;124m'\u001b[39m\n\u001b[0;32m----> 8\u001b[0m \u001b[43mtrain\u001b[49m\u001b[43m(\u001b[49m\u001b[43mconfig\u001b[49m\u001b[43m,\u001b[49m\u001b[43m \u001b[49m\u001b[43mdata\u001b[49m\u001b[43m)\u001b[49m\n",
      "File \u001b[0;32m~/sgda-ra/gamesopt/train_distributed.py:97\u001b[0m, in \u001b[0;36mtrain\u001b[0;34m(config, data)\u001b[0m\n\u001b[1;32m     95\u001b[0m \u001b[38;5;28mprint\u001b[39m(\u001b[38;5;124m\"\u001b[39m\u001b[38;5;124mTrying port \u001b[39m\u001b[38;5;132;01m%s\u001b[39;00m\u001b[38;5;124m\"\u001b[39m \u001b[38;5;241m%\u001b[39m port)\n\u001b[1;32m     96\u001b[0m \u001b[38;5;28;01mtry\u001b[39;00m:\n\u001b[0;32m---> 97\u001b[0m     \u001b[43mmp\u001b[49m\u001b[38;5;241;43m.\u001b[39;49m\u001b[43mspawn\u001b[49m\u001b[43m(\u001b[49m\u001b[43m_train\u001b[49m\u001b[43m,\u001b[49m\n\u001b[1;32m     98\u001b[0m \u001b[43m             \u001b[49m\u001b[43margs\u001b[49m\u001b[38;5;241;43m=\u001b[39;49m\u001b[43m(\u001b[49m\u001b[43mport\u001b[49m\u001b[43m,\u001b[49m\u001b[43m \u001b[49m\u001b[43mconfig\u001b[49m\u001b[43m,\u001b[49m\u001b[43m \u001b[49m\u001b[43mdata\u001b[49m\u001b[43m)\u001b[49m\u001b[43m,\u001b[49m\n\u001b[1;32m     99\u001b[0m \u001b[43m             \u001b[49m\u001b[38;5;66;43;03m# nprocs=config['n_peers'],\u001b[39;49;00m\n\u001b[1;32m    100\u001b[0m \u001b[43m             \u001b[49m\u001b[38;5;66;43;03m# nprocs=config.n_peers,\u001b[39;49;00m\n\u001b[1;32m    101\u001b[0m \u001b[43m             \u001b[49m\u001b[43mnprocs\u001b[49m\u001b[38;5;241;43m=\u001b[39;49m\u001b[43mnprocs\u001b[49m\u001b[43m,\u001b[49m\n\u001b[1;32m    102\u001b[0m \u001b[43m             \u001b[49m\u001b[43mjoin\u001b[49m\u001b[38;5;241;43m=\u001b[39;49m\u001b[38;5;28;43;01mTrue\u001b[39;49;00m\u001b[43m)\u001b[49m\n\u001b[1;32m    103\u001b[0m     \u001b[38;5;28;01mbreak\u001b[39;00m\n\u001b[1;32m    104\u001b[0m \u001b[38;5;28;01mexcept\u001b[39;00m PortNotAvailableError:\n",
      "File \u001b[0;32m~/miniconda3/lib/python3.9/site-packages/torch/multiprocessing/spawn.py:230\u001b[0m, in \u001b[0;36mspawn\u001b[0;34m(fn, args, nprocs, join, daemon, start_method)\u001b[0m\n\u001b[1;32m    226\u001b[0m     msg \u001b[38;5;241m=\u001b[39m (\u001b[38;5;124m'\u001b[39m\u001b[38;5;124mThis method only supports start_method=spawn (got: \u001b[39m\u001b[38;5;132;01m%s\u001b[39;00m\u001b[38;5;124m).\u001b[39m\u001b[38;5;130;01m\\n\u001b[39;00m\u001b[38;5;124m'\u001b[39m\n\u001b[1;32m    227\u001b[0m            \u001b[38;5;124m'\u001b[39m\u001b[38;5;124mTo use a different start_method use:\u001b[39m\u001b[38;5;130;01m\\n\u001b[39;00m\u001b[38;5;130;01m\\t\u001b[39;00m\u001b[38;5;130;01m\\t\u001b[39;00m\u001b[38;5;124m'\u001b[39m\n\u001b[1;32m    228\u001b[0m            \u001b[38;5;124m'\u001b[39m\u001b[38;5;124m torch.multiprocessing.start_processes(...)\u001b[39m\u001b[38;5;124m'\u001b[39m \u001b[38;5;241m%\u001b[39m start_method)\n\u001b[1;32m    229\u001b[0m     warnings\u001b[38;5;241m.\u001b[39mwarn(msg)\n\u001b[0;32m--> 230\u001b[0m \u001b[38;5;28;01mreturn\u001b[39;00m \u001b[43mstart_processes\u001b[49m\u001b[43m(\u001b[49m\u001b[43mfn\u001b[49m\u001b[43m,\u001b[49m\u001b[43m \u001b[49m\u001b[43margs\u001b[49m\u001b[43m,\u001b[49m\u001b[43m \u001b[49m\u001b[43mnprocs\u001b[49m\u001b[43m,\u001b[49m\u001b[43m \u001b[49m\u001b[43mjoin\u001b[49m\u001b[43m,\u001b[49m\u001b[43m \u001b[49m\u001b[43mdaemon\u001b[49m\u001b[43m,\u001b[49m\u001b[43m \u001b[49m\u001b[43mstart_method\u001b[49m\u001b[38;5;241;43m=\u001b[39;49m\u001b[38;5;124;43m'\u001b[39;49m\u001b[38;5;124;43mspawn\u001b[39;49m\u001b[38;5;124;43m'\u001b[39;49m\u001b[43m)\u001b[49m\n",
      "File \u001b[0;32m~/miniconda3/lib/python3.9/site-packages/torch/multiprocessing/spawn.py:188\u001b[0m, in \u001b[0;36mstart_processes\u001b[0;34m(fn, args, nprocs, join, daemon, start_method)\u001b[0m\n\u001b[1;32m    185\u001b[0m     \u001b[38;5;28;01mreturn\u001b[39;00m context\n\u001b[1;32m    187\u001b[0m \u001b[38;5;66;03m# Loop on join until it returns True or raises an exception.\u001b[39;00m\n\u001b[0;32m--> 188\u001b[0m \u001b[38;5;28;01mwhile\u001b[39;00m \u001b[38;5;129;01mnot\u001b[39;00m \u001b[43mcontext\u001b[49m\u001b[38;5;241;43m.\u001b[39;49m\u001b[43mjoin\u001b[49m\u001b[43m(\u001b[49m\u001b[43m)\u001b[49m:\n\u001b[1;32m    189\u001b[0m     \u001b[38;5;28;01mpass\u001b[39;00m\n",
      "File \u001b[0;32m~/miniconda3/lib/python3.9/site-packages/torch/multiprocessing/spawn.py:150\u001b[0m, in \u001b[0;36mProcessContext.join\u001b[0;34m(self, timeout)\u001b[0m\n\u001b[1;32m    148\u001b[0m msg \u001b[38;5;241m=\u001b[39m \u001b[38;5;124m\"\u001b[39m\u001b[38;5;130;01m\\n\u001b[39;00m\u001b[38;5;130;01m\\n\u001b[39;00m\u001b[38;5;124m-- Process \u001b[39m\u001b[38;5;132;01m%d\u001b[39;00m\u001b[38;5;124m terminated with the following error:\u001b[39m\u001b[38;5;130;01m\\n\u001b[39;00m\u001b[38;5;124m\"\u001b[39m \u001b[38;5;241m%\u001b[39m error_index\n\u001b[1;32m    149\u001b[0m msg \u001b[38;5;241m+\u001b[39m\u001b[38;5;241m=\u001b[39m original_trace\n\u001b[0;32m--> 150\u001b[0m \u001b[38;5;28;01mraise\u001b[39;00m ProcessRaisedException(msg, error_index, failed_process\u001b[38;5;241m.\u001b[39mpid)\n",
      "\u001b[0;31mProcessRaisedException\u001b[0m: \n\n-- Process 1 terminated with the following error:\nTraceback (most recent call last):\n  File \"/home/nazya/miniconda3/lib/python3.9/site-packages/torch/multiprocessing/spawn.py\", line 59, in _wrap\n    fn(i, *args)\n  File \"/home/nazya/sgda-ra/gamesopt/train_distributed.py\", line 60, in _train\n    optimizer = load_distributed_optimizer(config, data, rank)\n  File \"/home/nazya/sgda-ra/gamesopt/train_distributed.py\", line 19, in load_distributed_optimizer\n    return SGDARA(config, data, rank)\n  File \"/home/nazya/sgda-ra/gamesopt/optimizer/distributed.py\", line 42, in __init__\n    self.aggregator = load_bucketing(config)\n  File \"/home/nazya/sgda-ra/gamesopt/aggregator/__init__.py\", line 29, in load_bucketing\n    return Bucketing(config)\n  File \"/home/nazya/sgda-ra/gamesopt/aggregator/__init__.py\", line 37, in __init__\n    self.aggregator = load_aggregator(config)\n  File \"/home/nazya/sgda-ra/gamesopt/aggregator/__init__.py\", line 24, in load_aggregator\n    raise NotImplementedError()\nNotImplementedError\n"
     ]
    }
   ],
   "source": [
    "config = Config(batch_size=batch_size, attack=attack)\n",
    "config.optimizer = Optimizer.SGDARA\n",
    "config.aggregator = Aggregator.RFA\n",
    "config.use_bucketing = True\n",
    "config.n_attacking = config.n_byzan\n",
    "os.environ['MLFLOW_RUN_TAG'] = ''\n",
    "os.environ['MLFLOW_RUN_NAME'] = str(config.optimizer)\n",
    "os.environ['MLFLOW_RUN_TITLE'] = ''\n",
    "train(config, data)"
   ]
  },
  {
   "cell_type": "code",
   "execution_count": 41,
   "id": "05eff9b6-3c22-4e8b-96db-8020da4d59cd",
   "metadata": {},
   "outputs": [
    {
     "name": "stdout",
     "output_type": "stream",
     "text": [
      "Trying port 33784\n",
      "0            \r"
     ]
    }
   ],
   "source": [
    "config = Config(batch_size=batch_size, attack=attack)\n",
    "config.optimizer = Optimizer.MSGDARA\n",
    "config.use_bucketing = True\n",
    "config.n_attacking = config.n_byzan\n",
    "config.alpha = 0.1\n",
    "os.environ['MLFLOW_RUN_TAG'] = ''\n",
    "os.environ['MLFLOW_RUN_NAME'] = str(config.optimizer)\n",
    "os.environ['MLFLOW_RUN_TITLE'] = ''\n",
    "train(config, data)"
   ]
  },
  {
   "cell_type": "code",
   "execution_count": 34,
   "id": "21fdc31b-1b3e-4893-9383-0dc6ba0fda5d",
   "metadata": {},
   "outputs": [
    {
     "name": "stdout",
     "output_type": "stream",
     "text": [
      "Trying port 13788\n",
      "<enum 'Game'>\n",
      "0            \r"
     ]
    }
   ],
   "source": [
    "config = Config(batch_size=batch_size, attack=attack)\n",
    "config.n_iter = int(config.n_iter / 2) + 1\n",
    "config.n_attacking = config.n_byzan\n",
    "config.optimizer = Optimizer.RDEG\n",
    "config.aggregator = Aggregator.UnivariateTM\n",
    "os.environ['MLFLOW_RUN_TAG'] = ''\n",
    "os.environ['MLFLOW_RUN_NAME'] = str(config.optimizer)\n",
    "os.environ['MLFLOW_RUN_TITLE'] = ''\n",
    "train(config, data)"
   ]
  },
  {
   "cell_type": "code",
   "execution_count": 33,
   "id": "ab2c6cd1-3711-4f65-893e-0565019db166",
   "metadata": {},
   "outputs": [
    {
     "name": "stdout",
     "output_type": "stream",
     "text": [
      "Trying port 35030\n",
      "<enum 'Game'>\n"
     ]
    },
    {
     "ename": "ProcessRaisedException",
     "evalue": "\n\n-- Process 2 terminated with the following error:\nTraceback (most recent call last):\n  File \"/home/nazya/miniconda3/lib/python3.9/site-packages/torch/multiprocessing/spawn.py\", line 59, in _wrap\n    fn(i, *args)\n  File \"/home/nazya/sgda-ra/gamesopt/train_distributed.py\", line 61, in _train\n    optimizer = load_distributed_optimizer(config, data, rank)\n  File \"/home/nazya/sgda-ra/gamesopt/train_distributed.py\", line 23, in load_distributed_optimizer\n    return SEGRA(config, data, rank)\n  File \"/home/nazya/sgda-ra/gamesopt/optimizer/distributed.py\", line 112, in __init__\n    self.aggregator = load_bucketing(config)\n  File \"/home/nazya/sgda-ra/gamesopt/aggregator/__init__.py\", line 29, in load_bucketing\n    return Bucketing(config)\n  File \"/home/nazya/sgda-ra/gamesopt/aggregator/__init__.py\", line 37, in __init__\n    self.aggregator = load_aggregator(config)\n  File \"/home/nazya/sgda-ra/gamesopt/aggregator/__init__.py\", line 24, in load_aggregator\n    raise NotImplementedError()\nNotImplementedError\n",
     "output_type": "error",
     "traceback": [
      "\u001b[0;31m---------------------------------------------------------------------------\u001b[0m",
      "\u001b[0;31mProcessRaisedException\u001b[0m                    Traceback (most recent call last)",
      "Cell \u001b[0;32mIn [33], line 9\u001b[0m\n\u001b[1;32m      7\u001b[0m os\u001b[38;5;241m.\u001b[39menviron[\u001b[38;5;124m'\u001b[39m\u001b[38;5;124mMLFLOW_RUN_NAME\u001b[39m\u001b[38;5;124m'\u001b[39m] \u001b[38;5;241m=\u001b[39m \u001b[38;5;28mstr\u001b[39m(config\u001b[38;5;241m.\u001b[39moptimizer)\n\u001b[1;32m      8\u001b[0m os\u001b[38;5;241m.\u001b[39menviron[\u001b[38;5;124m'\u001b[39m\u001b[38;5;124mMLFLOW_RUN_TITLE\u001b[39m\u001b[38;5;124m'\u001b[39m] \u001b[38;5;241m=\u001b[39m \u001b[38;5;124m'\u001b[39m\u001b[38;5;124m'\u001b[39m\n\u001b[0;32m----> 9\u001b[0m \u001b[43mtrain\u001b[49m\u001b[43m(\u001b[49m\u001b[43mconfig\u001b[49m\u001b[43m,\u001b[49m\u001b[43m \u001b[49m\u001b[43mdata\u001b[49m\u001b[43m)\u001b[49m\n",
      "File \u001b[0;32m~/sgda-ra/gamesopt/train_distributed.py:98\u001b[0m, in \u001b[0;36mtrain\u001b[0;34m(config, data)\u001b[0m\n\u001b[1;32m     96\u001b[0m \u001b[38;5;28mprint\u001b[39m(\u001b[38;5;124m\"\u001b[39m\u001b[38;5;124mTrying port \u001b[39m\u001b[38;5;132;01m%s\u001b[39;00m\u001b[38;5;124m\"\u001b[39m \u001b[38;5;241m%\u001b[39m port)\n\u001b[1;32m     97\u001b[0m \u001b[38;5;28;01mtry\u001b[39;00m:\n\u001b[0;32m---> 98\u001b[0m     \u001b[43mmp\u001b[49m\u001b[38;5;241;43m.\u001b[39;49m\u001b[43mspawn\u001b[49m\u001b[43m(\u001b[49m\u001b[43m_train\u001b[49m\u001b[43m,\u001b[49m\n\u001b[1;32m     99\u001b[0m \u001b[43m             \u001b[49m\u001b[43margs\u001b[49m\u001b[38;5;241;43m=\u001b[39;49m\u001b[43m(\u001b[49m\u001b[43mport\u001b[49m\u001b[43m,\u001b[49m\u001b[43m \u001b[49m\u001b[43mconfig\u001b[49m\u001b[43m,\u001b[49m\u001b[43m \u001b[49m\u001b[43mdata\u001b[49m\u001b[43m)\u001b[49m\u001b[43m,\u001b[49m\n\u001b[1;32m    100\u001b[0m \u001b[43m             \u001b[49m\u001b[38;5;66;43;03m# nprocs=config['n_peers'],\u001b[39;49;00m\n\u001b[1;32m    101\u001b[0m \u001b[43m             \u001b[49m\u001b[38;5;66;43;03m# nprocs=config.n_peers,\u001b[39;49;00m\n\u001b[1;32m    102\u001b[0m \u001b[43m             \u001b[49m\u001b[43mnprocs\u001b[49m\u001b[38;5;241;43m=\u001b[39;49m\u001b[43mnprocs\u001b[49m\u001b[43m,\u001b[49m\n\u001b[1;32m    103\u001b[0m \u001b[43m             \u001b[49m\u001b[43mjoin\u001b[49m\u001b[38;5;241;43m=\u001b[39;49m\u001b[38;5;28;43;01mTrue\u001b[39;49;00m\u001b[43m)\u001b[49m\n\u001b[1;32m    104\u001b[0m     \u001b[38;5;28;01mbreak\u001b[39;00m\n\u001b[1;32m    105\u001b[0m \u001b[38;5;28;01mexcept\u001b[39;00m PortNotAvailableError:\n",
      "File \u001b[0;32m~/miniconda3/lib/python3.9/site-packages/torch/multiprocessing/spawn.py:230\u001b[0m, in \u001b[0;36mspawn\u001b[0;34m(fn, args, nprocs, join, daemon, start_method)\u001b[0m\n\u001b[1;32m    226\u001b[0m     msg \u001b[38;5;241m=\u001b[39m (\u001b[38;5;124m'\u001b[39m\u001b[38;5;124mThis method only supports start_method=spawn (got: \u001b[39m\u001b[38;5;132;01m%s\u001b[39;00m\u001b[38;5;124m).\u001b[39m\u001b[38;5;130;01m\\n\u001b[39;00m\u001b[38;5;124m'\u001b[39m\n\u001b[1;32m    227\u001b[0m            \u001b[38;5;124m'\u001b[39m\u001b[38;5;124mTo use a different start_method use:\u001b[39m\u001b[38;5;130;01m\\n\u001b[39;00m\u001b[38;5;130;01m\\t\u001b[39;00m\u001b[38;5;130;01m\\t\u001b[39;00m\u001b[38;5;124m'\u001b[39m\n\u001b[1;32m    228\u001b[0m            \u001b[38;5;124m'\u001b[39m\u001b[38;5;124m torch.multiprocessing.start_processes(...)\u001b[39m\u001b[38;5;124m'\u001b[39m \u001b[38;5;241m%\u001b[39m start_method)\n\u001b[1;32m    229\u001b[0m     warnings\u001b[38;5;241m.\u001b[39mwarn(msg)\n\u001b[0;32m--> 230\u001b[0m \u001b[38;5;28;01mreturn\u001b[39;00m \u001b[43mstart_processes\u001b[49m\u001b[43m(\u001b[49m\u001b[43mfn\u001b[49m\u001b[43m,\u001b[49m\u001b[43m \u001b[49m\u001b[43margs\u001b[49m\u001b[43m,\u001b[49m\u001b[43m \u001b[49m\u001b[43mnprocs\u001b[49m\u001b[43m,\u001b[49m\u001b[43m \u001b[49m\u001b[43mjoin\u001b[49m\u001b[43m,\u001b[49m\u001b[43m \u001b[49m\u001b[43mdaemon\u001b[49m\u001b[43m,\u001b[49m\u001b[43m \u001b[49m\u001b[43mstart_method\u001b[49m\u001b[38;5;241;43m=\u001b[39;49m\u001b[38;5;124;43m'\u001b[39;49m\u001b[38;5;124;43mspawn\u001b[39;49m\u001b[38;5;124;43m'\u001b[39;49m\u001b[43m)\u001b[49m\n",
      "File \u001b[0;32m~/miniconda3/lib/python3.9/site-packages/torch/multiprocessing/spawn.py:188\u001b[0m, in \u001b[0;36mstart_processes\u001b[0;34m(fn, args, nprocs, join, daemon, start_method)\u001b[0m\n\u001b[1;32m    185\u001b[0m     \u001b[38;5;28;01mreturn\u001b[39;00m context\n\u001b[1;32m    187\u001b[0m \u001b[38;5;66;03m# Loop on join until it returns True or raises an exception.\u001b[39;00m\n\u001b[0;32m--> 188\u001b[0m \u001b[38;5;28;01mwhile\u001b[39;00m \u001b[38;5;129;01mnot\u001b[39;00m \u001b[43mcontext\u001b[49m\u001b[38;5;241;43m.\u001b[39;49m\u001b[43mjoin\u001b[49m\u001b[43m(\u001b[49m\u001b[43m)\u001b[49m:\n\u001b[1;32m    189\u001b[0m     \u001b[38;5;28;01mpass\u001b[39;00m\n",
      "File \u001b[0;32m~/miniconda3/lib/python3.9/site-packages/torch/multiprocessing/spawn.py:150\u001b[0m, in \u001b[0;36mProcessContext.join\u001b[0;34m(self, timeout)\u001b[0m\n\u001b[1;32m    148\u001b[0m msg \u001b[38;5;241m=\u001b[39m \u001b[38;5;124m\"\u001b[39m\u001b[38;5;130;01m\\n\u001b[39;00m\u001b[38;5;130;01m\\n\u001b[39;00m\u001b[38;5;124m-- Process \u001b[39m\u001b[38;5;132;01m%d\u001b[39;00m\u001b[38;5;124m terminated with the following error:\u001b[39m\u001b[38;5;130;01m\\n\u001b[39;00m\u001b[38;5;124m\"\u001b[39m \u001b[38;5;241m%\u001b[39m error_index\n\u001b[1;32m    149\u001b[0m msg \u001b[38;5;241m+\u001b[39m\u001b[38;5;241m=\u001b[39m original_trace\n\u001b[0;32m--> 150\u001b[0m \u001b[38;5;28;01mraise\u001b[39;00m ProcessRaisedException(msg, error_index, failed_process\u001b[38;5;241m.\u001b[39mpid)\n",
      "\u001b[0;31mProcessRaisedException\u001b[0m: \n\n-- Process 2 terminated with the following error:\nTraceback (most recent call last):\n  File \"/home/nazya/miniconda3/lib/python3.9/site-packages/torch/multiprocessing/spawn.py\", line 59, in _wrap\n    fn(i, *args)\n  File \"/home/nazya/sgda-ra/gamesopt/train_distributed.py\", line 61, in _train\n    optimizer = load_distributed_optimizer(config, data, rank)\n  File \"/home/nazya/sgda-ra/gamesopt/train_distributed.py\", line 23, in load_distributed_optimizer\n    return SEGRA(config, data, rank)\n  File \"/home/nazya/sgda-ra/gamesopt/optimizer/distributed.py\", line 112, in __init__\n    self.aggregator = load_bucketing(config)\n  File \"/home/nazya/sgda-ra/gamesopt/aggregator/__init__.py\", line 29, in load_bucketing\n    return Bucketing(config)\n  File \"/home/nazya/sgda-ra/gamesopt/aggregator/__init__.py\", line 37, in __init__\n    self.aggregator = load_aggregator(config)\n  File \"/home/nazya/sgda-ra/gamesopt/aggregator/__init__.py\", line 24, in load_aggregator\n    raise NotImplementedError()\nNotImplementedError\n"
     ]
    }
   ],
   "source": [
    "config = Config(batch_size=batch_size, attack=attack)\n",
    "config.n_iter = int(config.n_iter / 2) + 1\n",
    "config.optimizer = Optimizer.SEGRA\n",
    "config.use_bucketing = True\n",
    "config.n_attacking = config.n_byzan\n",
    "os.environ['MLFLOW_RUN_TAG'] = ''\n",
    "os.environ['MLFLOW_RUN_NAME'] = str(config.optimizer)\n",
    "os.environ['MLFLOW_RUN_TITLE'] = ''\n",
    "train(config, data)"
   ]
  },
  {
   "cell_type": "code",
   "execution_count": 49,
   "id": "bd492df1-1622-4989-8758-f6f36ff9593d",
   "metadata": {},
   "outputs": [
    {
     "name": "stdout",
     "output_type": "stream",
     "text": [
      "Trying port 22342\n",
      "0             \r"
     ]
    }
   ],
   "source": [
    "config = Config(batch_size=batch_size, attack=attack)\n",
    "config.n_iter = config.n_iter * 2 - 1\n",
    "config.optimizer = Optimizer.SGDACC\n",
    "config.aggregator = Aggregator.Mean\n",
    "config.n_attacking = 1\n",
    "os.environ['MLFLOW_RUN_TAG'] = ''\n",
    "os.environ['MLFLOW_RUN_NAME'] = str(config.optimizer)\n",
    "os.environ['MLFLOW_RUN_TITLE'] = ''\n",
    "train(config, data)"
   ]
  },
  {
   "cell_type": "code",
   "execution_count": 50,
   "id": "154fe3c0-21b7-4149-9c9f-3564c495e1bc",
   "metadata": {},
   "outputs": [
    {
     "name": "stdout",
     "output_type": "stream",
     "text": [
      "Trying port 11461\n",
      "0            \r"
     ]
    }
   ],
   "source": [
    "config = Config(batch_size=batch_size, attack=attack)\n",
    "config.n_iter = config.n_iter + 1\n",
    "config.optimizer = Optimizer.SEGCC\n",
    "config.aggregator = Aggregator.Mean\n",
    "config.use_bucketing = False\n",
    "config.n_attacking = 1\n",
    "os.environ['MLFLOW_RUN_TAG'] = ''\n",
    "os.environ['MLFLOW_RUN_NAME'] = str(config.optimizer)\n",
    "os.environ['MLFLOW_RUN_TITLE'] = ''\n",
    "train(config, data)"
   ]
  },
  {
   "cell_type": "code",
   "execution_count": null,
   "id": "a0e24a7d-b098-45bb-817e-fbf3564c9c12",
   "metadata": {},
   "outputs": [],
   "source": []
  }
 ],
 "metadata": {
  "kernelspec": {
   "display_name": "Python 3 (ipykernel)",
   "language": "python",
   "name": "python3"
  },
  "language_info": {
   "codemirror_mode": {
    "name": "ipython",
    "version": 3
   },
   "file_extension": ".py",
   "mimetype": "text/x-python",
   "name": "python",
   "nbconvert_exporter": "python",
   "pygments_lexer": "ipython3",
   "version": "3.9.15"
  },
  "vscode": {
   "interpreter": {
    "hash": "18f7a5ae47153a9b42c5447ccb1bbe68959e117ab7750209e163c7c253c9e013"
   }
  },
  "widgets": {
   "application/vnd.jupyter.widget-state+json": {
    "state": {},
    "version_major": 2,
    "version_minor": 0
   }
  }
 },
 "nbformat": 4,
 "nbformat_minor": 5
}
