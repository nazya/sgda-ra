{
 "cells": [
  {
   "cell_type": "code",
   "execution_count": 1,
   "id": "3ea397aa",
   "metadata": {},
   "outputs": [],
   "source": [
    "%matplotlib widget\n",
    "\n",
    "from gamesopt.train import train, TrainConfig\n",
    "from gamesopt.games import load_game, GameOptions, QuadraticGameConfig, GameType\n",
    "from gamesopt.optimizer import load_optimizer, OptimizerOptions, OptimizerType\n",
    "from gamesopt.optimizer.aggregation import AggregationOptions, AggregatorType\n",
    "import torch\n",
    "from collections import defaultdict\n",
    "import matplotlib.pyplot as plt\n",
    "\n",
    "%load_ext autoreload\n",
    "%autoreload 1\n"
   ]
  },
  {
   "cell_type": "code",
   "execution_count": 2,
   "id": "3e567719-3222-4656-a5cd-128a0d82a0c4",
   "metadata": {},
   "outputs": [],
   "source": [
    "n_iter = 100\n",
    "\n",
    "n_total = 10\n",
    "n_byzan = 2\n",
    "\n",
    "num_samples = 10\n",
    "dim = 2\n",
    "bias = True\n",
    "mu = 1.\n",
    "ell = 10.\n",
    "\n",
    "aggregator_type=AggregatorType.Mean\n",
    "use_bucketing = False#not implemented\n",
    "\n",
    "optimizer_type=OptimizerType.SGDARA\n",
    "lr = 5e-4\n",
    "batch_size = 10"
   ]
  },
  {
   "cell_type": "code",
   "execution_count": 3,
   "id": "b06b4790-e944-418a-b1d9-00d0046e44a9",
   "metadata": {},
   "outputs": [],
   "source": [
    "aggregation_options = AggregationOptions(n_total=n_total,\n",
    "                                         n_byzan=n_byzan,\n",
    "                                         aggregator_type=aggregator_type)\n",
    "\n",
    "quadratic_game_options = QuadraticGameConfig(num_samples=num_samples,\n",
    "                                             dim=dim,\n",
    "                                            num_players=2,\n",
    "                                            bias=bias,\n",
    "                                            mu=mu,\n",
    "                                            ell=ell)\n",
    "\n",
    "game_options = GameOptions(GameType.QUADRATIC, quadratic_game_options)\n",
    "\n",
    "           \n",
    "optimizer_options = OptimizerOptions(optimizer_type=optimizer_type,\n",
    "                                     lr=lr,\n",
    "                                     batch_size=batch_size,\n",
    "                                     aggregation_options=aggregation_options)\n",
    "\n",
    "config = TrainConfig(game=game_options,\n",
    "                     optimizer=optimizer_options,\n",
    "                     num_iter=n_iter)"
   ]
  },
  {
   "cell_type": "code",
   "execution_count": 4,
   "id": "f5e30605",
   "metadata": {},
   "outputs": [
    {
     "name": "stdout",
     "output_type": "stream",
     "text": [
      "TrainConfig(game=GameOptions(game_type=<GameType.QUADRATIC: 'quadratic'>, quadratic_options=QuadraticGameConfig(num_samples=10, dim=2, num_players=2, bias=True, mu=1.0, ell=10.0, importance_sampling=False, matrix=None)), optimizer=OptimizerOptions(optimizer_type=<OptimizerType.SGDARA: 'SGDARA'>, lr=0.0005, batch_size=10, aggregation_options=AggregationOptions(n_total=10, n_byzan=2, aggregator_type=<AggregatorType.Mean: 'Mean'>)), num_iter=100)\n"
     ]
    },
    {
     "data": {
      "application/vnd.jupyter.widget-view+json": {
       "model_id": "5d6e665e9b814523bf50f8167df6c466",
       "version_major": 2,
       "version_minor": 0
      },
      "image/png": "[encoded data removed]",
      "text/html": [
       "\n",
       "            <div style=\"display: inline-block;\">\n",
       "                <div class=\"jupyter-widgets widget-label\" style=\"text-align: center;\">\n",
       "                    Figure\n",
       "                </div>\n",
       "                <img src='data:image/png;base64,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' width=640.0/>\n",
       "            </div>\n",
       "        "
      ],
      "text/plain": [
       "Canvas(toolbar=Toolbar(toolitems=[('Home', 'Reset original view', 'home', 'home'), ('Back', 'Back to previous …"
      ]
     },
     "metadata": {},
     "output_type": "display_data"
    }
   ],
   "source": [
    "# config = TrainConfig()\n",
    "# config.game.quadratic_options.num_samples = 100\n",
    "# config.game.quadratic_options.dim = 10\n",
    "# config.num_iter = 2000\n",
    "# config.game.quadratic_options.bias = True\n",
    "print(config)\n",
    "\n",
    "plt.figure()\n",
    "plt.yscale('log')"
   ]
  },
  {
   "cell_type": "code",
   "execution_count": 5,
   "id": "69ad2770",
   "metadata": {},
   "outputs": [
    {
     "ename": "AttributeError",
     "evalue": "PROX_SGDA",
     "output_type": "error",
     "traceback": [
      "\u001b[0;31m---------------------------------------------------------------------------\u001b[0m",
      "\u001b[0;31mAttributeError\u001b[0m                            Traceback (most recent call last)",
      "Cell \u001b[0;32mIn [5], line 2\u001b[0m\n\u001b[1;32m      1\u001b[0m config\u001b[38;5;241m.\u001b[39moptimizer\u001b[38;5;241m.\u001b[39mlr \u001b[38;5;241m=\u001b[39m \u001b[38;5;241m2e-3\u001b[39m\n\u001b[0;32m----> 2\u001b[0m config\u001b[38;5;241m.\u001b[39moptimizer\u001b[38;5;241m.\u001b[39moptimizer_type \u001b[38;5;241m=\u001b[39m \u001b[43mOptimizerType\u001b[49m\u001b[38;5;241;43m.\u001b[39;49m\u001b[43mPROX_SGDA\u001b[49m\n\u001b[1;32m      3\u001b[0m record \u001b[38;5;241m=\u001b[39m train(config)\n\u001b[1;32m      4\u001b[0m metrics \u001b[38;5;241m=\u001b[39m record\u001b[38;5;241m.\u001b[39mmetrics\n",
      "File \u001b[0;32m~/miniconda3/lib/python3.9/enum.py:429\u001b[0m, in \u001b[0;36mEnumMeta.__getattr__\u001b[0;34m(cls, name)\u001b[0m\n\u001b[1;32m    427\u001b[0m     \u001b[38;5;28;01mreturn\u001b[39;00m \u001b[38;5;28mcls\u001b[39m\u001b[38;5;241m.\u001b[39m_member_map_[name]\n\u001b[1;32m    428\u001b[0m \u001b[38;5;28;01mexcept\u001b[39;00m \u001b[38;5;167;01mKeyError\u001b[39;00m:\n\u001b[0;32m--> 429\u001b[0m     \u001b[38;5;28;01mraise\u001b[39;00m \u001b[38;5;167;01mAttributeError\u001b[39;00m(name) \u001b[38;5;28;01mfrom\u001b[39;00m \u001b[38;5;28mNone\u001b[39m\n",
      "\u001b[0;31mAttributeError\u001b[0m: PROX_SGDA"
     ]
    }
   ],
   "source": [
    "config.optimizer.lr = 2e-3\n",
    "config.optimizer.optimizer_type = OptimizerType.PROX_SGDA\n",
    "record = train(config)\n",
    "metrics = record.metrics\n",
    "plt.plot(metrics.num_grad, metrics.hamiltonian,\n",
    "         label=\"%s lr=%.e\" % (config.optimizer.optimizer_type.value, config.optimizer.lr))"
   ]
  },
  {
   "cell_type": "code",
   "execution_count": 9,
   "id": "ed5d29bb",
   "metadata": {},
   "outputs": [
    {
     "name": "stdout",
     "output_type": "stream",
     "text": [
      "OptimizerOptions(optimizer_type=<OptimizerType.PROX_LSVRGDA: 'Prox-L-SVRGDA'>, lr=0.007, lr_e=None, p=None, alpha=None, full_batch=False, batch_size=1, N=None, T=1, quantization_options=QuantizationOptions(quantization_type=<QuantizationType.NONE: 'none'>, k=5))\n",
      "Init...\n"
     ]
    },
    {
     "data": {
      "text/plain": [
       "[<matplotlib.lines.Line2D at 0x11f3eee30>]"
      ]
     },
     "execution_count": 9,
     "metadata": {},
     "output_type": "execute_result"
    }
   ],
   "source": [
    "config.optimizer.lr = 7e-3\n",
    "config.optimizer.optimizer_type = OptimizerType.PROX_LSVRGDA\n",
    "print(config.optimizer)\n",
    "record = train(config)\n",
    "metrics = record.metrics\n",
    "plt.plot(metrics.num_grad, metrics.hamiltonian,\n",
    "         label=\"%s lr=%.e\" % (config.optimizer.optimizer_type.value, config.optimizer.lr))"
   ]
  },
  {
   "cell_type": "code",
   "execution_count": 10,
   "id": "0a879207",
   "metadata": {},
   "outputs": [
    {
     "name": "stdout",
     "output_type": "stream",
     "text": [
      "OptimizerOptions(optimizer_type=<OptimizerType.SVRG: 'SVRG'>, lr=0.007, lr_e=None, p=None, alpha=None, full_batch=False, batch_size=1, N=None, T=1, quantization_options=QuantizationOptions(quantization_type=<QuantizationType.NONE: 'none'>, k=5))\n",
      "Init...\n"
     ]
    },
    {
     "data": {
      "text/plain": [
       "[<matplotlib.lines.Line2D at 0x11fd8fc40>]"
      ]
     },
     "execution_count": 10,
     "metadata": {},
     "output_type": "execute_result"
    }
   ],
   "source": [
    "config.optimizer.lr = 7e-3\n",
    "config.optimizer.optimizer_type = OptimizerType.SVRG\n",
    "print(config.optimizer)\n",
    "record = train(config)\n",
    "metrics = record.metrics\n",
    "plt.plot(metrics.num_grad, metrics.hamiltonian,\n",
    "         label=\"%s lr=%.e\" % (config.optimizer.optimizer_type.value, config.optimizer.lr))"
   ]
  },
  {
   "cell_type": "code",
   "execution_count": 11,
   "id": "f0c9eb3e",
   "metadata": {},
   "outputs": [
    {
     "name": "stdout",
     "output_type": "stream",
     "text": [
      "OptimizerOptions(optimizer_type=<OptimizerType.VRFORB: 'VR-FoRB'>, lr=0.002, lr_e=None, p=None, alpha=None, full_batch=False, batch_size=1, N=None, T=1, quantization_options=QuantizationOptions(quantization_type=<QuantizationType.NONE: 'none'>, k=5))\n",
      "Init...\n"
     ]
    },
    {
     "data": {
      "text/plain": [
       "[<matplotlib.lines.Line2D at 0x11f3effa0>]"
      ]
     },
     "execution_count": 11,
     "metadata": {},
     "output_type": "execute_result"
    }
   ],
   "source": [
    "config.optimizer.lr = 2e-3\n",
    "config.optimizer.optimizer_type = OptimizerType.VRFORB\n",
    "print(config.optimizer)\n",
    "record = train(config)\n",
    "metrics = record.metrics\n",
    "plt.plot(metrics.num_grad, metrics.hamiltonian,\n",
    "         label=\"%s lr=%.e\" % (config.optimizer.optimizer_type.value, config.optimizer.lr))"
   ]
  },
  {
   "cell_type": "code",
   "execution_count": 12,
   "id": "40a845c7",
   "metadata": {},
   "outputs": [
    {
     "name": "stdout",
     "output_type": "stream",
     "text": [
      "OptimizerOptions(optimizer_type=<OptimizerType.VRAGDA: 'VR-AGDA'>, lr=0.02, lr_e=None, p=None, alpha=None, full_batch=False, batch_size=1, N=None, T=1, quantization_options=QuantizationOptions(quantization_type=<QuantizationType.NONE: 'none'>, k=5))\n",
      "Init...\n"
     ]
    },
    {
     "data": {
      "text/plain": [
       "[<matplotlib.lines.Line2D at 0x11dc04550>]"
      ]
     },
     "execution_count": 12,
     "metadata": {},
     "output_type": "execute_result"
    }
   ],
   "source": [
    "config.optimizer.lr = 2e-2\n",
    "config.optimizer.optimizer_type = OptimizerType.VRAGDA\n",
    "config.optimizer.T = 1\n",
    "print(config.optimizer)\n",
    "record = train(config)\n",
    "metrics = record.metrics\n",
    "plt.plot(metrics.num_grad, metrics.hamiltonian,\n",
    "         label=\"%s lr=%.e\" % (config.optimizer.optimizer_type.value, config.optimizer.lr))"
   ]
  },
  {
   "cell_type": "code",
   "execution_count": 13,
   "id": "275c1338",
   "metadata": {},
   "outputs": [
    {
     "name": "stdout",
     "output_type": "stream",
     "text": [
      "OptimizerOptions(optimizer_type=<OptimizerType.SVRE: 'SVRE'>, lr=0.02, lr_e=None, p=None, alpha=None, full_batch=False, batch_size=1, N=None, T=1, quantization_options=QuantizationOptions(quantization_type=<QuantizationType.NONE: 'none'>, k=5))\n",
      "Init...\n"
     ]
    },
    {
     "data": {
      "text/plain": [
       "[<matplotlib.lines.Line2D at 0x11f3444f0>]"
      ]
     },
     "execution_count": 13,
     "metadata": {},
     "output_type": "execute_result"
    }
   ],
   "source": [
    "config.optimizer.lr = 2e-2\n",
    "config.optimizer.optimizer_type = OptimizerType.SVRE\n",
    "print(config.optimizer)\n",
    "record = train(config)\n",
    "metrics = record.metrics\n",
    "plt.plot(metrics.num_grad, metrics.hamiltonian,\n",
    "         label=\"%s lr=%.e\" % (config.optimizer.optimizer_type.value, config.optimizer.lr))"
   ]
  },
  {
   "cell_type": "code",
   "execution_count": 14,
   "id": "587aedef",
   "metadata": {},
   "outputs": [
    {
     "name": "stdout",
     "output_type": "stream",
     "text": [
      "OptimizerOptions(optimizer_type=<OptimizerType.EG_VR: 'EG-VR'>, lr=0.1, lr_e=None, p=None, alpha=None, full_batch=False, batch_size=1, N=None, T=1, quantization_options=QuantizationOptions(quantization_type=<QuantizationType.NONE: 'none'>, k=5))\n",
      "Init...\n"
     ]
    },
    {
     "data": {
      "text/plain": [
       "[<matplotlib.lines.Line2D at 0x11fb90ac0>]"
      ]
     },
     "execution_count": 14,
     "metadata": {},
     "output_type": "execute_result"
    }
   ],
   "source": [
    "config.optimizer.lr = 1e-1\n",
    "config.optimizer.optimizer_type = OptimizerType.EG_VR\n",
    "print(config.optimizer)\n",
    "record = train(config)\n",
    "metrics = record.metrics\n",
    "plt.plot(metrics.num_grad, metrics.hamiltonian,\n",
    "         label=\"%s lr=%.e\" % (config.optimizer.optimizer_type.value, config.optimizer.lr))"
   ]
  },
  {
   "cell_type": "code",
   "execution_count": 15,
   "id": "a7ae9ed5",
   "metadata": {},
   "outputs": [
    {
     "data": {
      "text/plain": [
       "<matplotlib.legend.Legend at 0x11f3ef4c0>"
      ]
     },
     "execution_count": 15,
     "metadata": {},
     "output_type": "execute_result"
    }
   ],
   "source": [
    "plt.legend()\n",
    "plt.show()"
   ]
  }
 ],
 "metadata": {
  "kernelspec": {
   "display_name": "Python 3 (ipykernel)",
   "language": "python",
   "name": "python3"
  },
  "language_info": {
   "codemirror_mode": {
    "name": "ipython",
    "version": 3
   },
   "file_extension": ".py",
   "mimetype": "text/x-python",
   "name": "python",
   "nbconvert_exporter": "python",
   "pygments_lexer": "ipython3",
   "version": "3.9.15"
  },
  "widgets": {
   "application/vnd.jupyter.widget-state+json": {
    "state": {
     "3a1a54b0ac21484fbf284cc9927628b2": {
      "model_module": "@jupyter-widgets/base",
      "model_module_version": "2.0.0",
      "model_name": "LayoutModel",
      "state": {}
     },
     "5d6e665e9b814523bf50f8167df6c466": {
      "model_module": "jupyter-matplotlib",
      "model_module_version": "^0.11",
      "model_name": "MPLCanvasModel",
      "state": {
       "_data_url": "data:image/png;base64,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",
       "_figure_label": "Figure 1",
       "_model_module_version": "^0.11",
       "_size": [
        640,
        480
       ],
       "_view_module_version": "^0.11",
       "layout": "IPY_MODEL_a8c1e186cd2a4a4a854694bb8eb5d8d5",
       "toolbar": "IPY_MODEL_ec2bd4c74069440a881f9073820a1b23",
       "toolbar_position": "left"
      }
     },
     "a8c1e186cd2a4a4a854694bb8eb5d8d5": {
      "model_module": "@jupyter-widgets/base",
      "model_module_version": "2.0.0",
      "model_name": "LayoutModel",
      "state": {}
     },
     "ec2bd4c74069440a881f9073820a1b23": {
      "model_module": "jupyter-matplotlib",
      "model_module_version": "^0.11",
      "model_name": "ToolbarModel",
      "state": {
       "_model_module_version": "^0.11",
       "_view_module_version": "^0.11",
       "collapsed": true,
       "layout": "IPY_MODEL_3a1a54b0ac21484fbf284cc9927628b2",
       "orientation": "vertical",
       "toolitems": [
        [
         "Home",
         "Reset original view",
         "home",
         "home"
        ],
        [
         "Back",
         "Back to previous view",
         "arrow-left",
         "back"
        ],
        [
         "Forward",
         "Forward to next view",
         "arrow-right",
         "forward"
        ],
        [
         "Pan",
         "Left button pans, Right button zooms\nx/y fixes axis, CTRL fixes aspect",
         "arrows",
         "pan"
        ],
        [
         "Zoom",
         "Zoom to rectangle\nx/y fixes axis",
         "square-o",
         "zoom"
        ],
        [
         "Download",
         "Download plot",
         "floppy-o",
         "save_figure"
        ]
       ]
      }
     }
    },
    "version_major": 2,
    "version_minor": 0
   }
  }
 },
 "nbformat": 4,
 "nbformat_minor": 5
}
