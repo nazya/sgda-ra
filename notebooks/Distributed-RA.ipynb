{
 "cells": [
  {
   "cell_type": "code",
   "execution_count": 1,
   "id": "3ea397aa",
   "metadata": {},
   "outputs": [],
   "source": [
    "from gamesopt.train_distributed import train, TrainDistributedConfig\n",
    "from gamesopt.games import GameOptions, QuadraticGameConfig, GameType\n",
    "from gamesopt.optimizer import OptimizerOptions, OptimizerType\n",
    "from gamesopt.aggregator import AggregationOptions, AggregatorType\n",
    "from gamesopt.attacks import AttackOptions, AttackType\n",
    "import matplotlib.pyplot as plt\n",
    "\n",
    "%matplotlib widget\n",
    "%load_ext autoreload\n",
    "%autoreload 1"
   ]
  },
  {
   "cell_type": "code",
   "execution_count": 2,
   "id": "b73b052a-0bd5-48e2-8774-6536649632cc",
   "metadata": {},
   "outputs": [
    {
     "name": "stdout",
     "output_type": "stream",
     "text": [
      "TrainDistributedConfig(game=GameOptions(game_type=<GameType.QUADRATIC: 'quadratic'>, quadratic_options=QuadraticGameConfig(num_samples=1000, dim=100, num_players=2, bias=True, sigma=0.001, mu=0.01, ell=100.0, seed=0, matrix=None)), optimizer=OptimizerOptions(optimizer_type=<OptimizerType.SGDACC: 'SGDACC'>, lr=0.005, batch_size=1, aggregation_options=AggregationOptions(n_total=20, n_byzan=9, aggregator_type=<AggregatorType.Mean: 'Mean'>, use_bucketing=True, bucketing_s=2, clipping_tau=102, clipping_n_iter=1, trimmed_mean_b=10, krum_m=2, rfa_T=10, rfa_nu=0.1), attack_options=AttackOptions(n_total=20, n_byzan=9, n_attacking=9, attack_type=<AttackType.ALIE: 'ALittleIsEnough'>, rn_sigma=10.0, ipm_epsilon=0.01, alie_z=None), sigmaC=100.0), num_iter=300, n_process=20)\n"
     ]
    }
   ],
   "source": [
    "n_iter = 300\n",
    "\n",
    "n_total = 20\n",
    "n_byzan = 9\n",
    "\n",
    "num_samples = 1000\n",
    "dim = 100\n",
    "bias = True\n",
    "sigma = 1e-3  # actually scales sigma\n",
    "mu = 1e-2\n",
    "ell = 1e2\n",
    "\n",
    "attack_type = AttackType.ALIE\n",
    "n_attacking = 9\n",
    "ipm_epsilon = 1e-2\n",
    "rn_sigma = 10.\n",
    "\n",
    "use_bucketing = True\n",
    "bucketing_s = 2\n",
    "aggregator_type = AggregatorType.Mean\n",
    "trimmed_mean_b = 10\n",
    "krum_m = 2\n",
    "clipping_tau = 102\n",
    "clipping_n_iter = 1\n",
    "rfa_T: int = 10\n",
    "rfa_nu: int = 0.1\n",
    "\n",
    "optimizer_type = OptimizerType.SGDACC\n",
    "alpha = 0.\n",
    "lr = 1/2/ell\n",
    "batch_size = 1\n",
    "sigmaC = 100.\n",
    "\n",
    "aggregation_options = AggregationOptions(n_total=n_total,\n",
    "                                         n_byzan=n_byzan,\n",
    "                                         aggregator_type=aggregator_type,\n",
    "                                         use_bucketing=use_bucketing,\n",
    "                                         bucketing_s=bucketing_s,\n",
    "                                         trimmed_mean_b=trimmed_mean_b,\n",
    "                                         krum_m=krum_m,\n",
    "                                         clipping_tau=clipping_tau,\n",
    "                                         clipping_n_iter=clipping_n_iter,\n",
    "                                         rfa_T=rfa_T,\n",
    "                                         rfa_nu=rfa_nu)\n",
    "\n",
    "quadratic_game_options = QuadraticGameConfig(num_samples=num_samples,\n",
    "                                             dim=dim,\n",
    "                                             num_players=2,\n",
    "                                             bias=bias,\n",
    "                                             sigma=sigma,\n",
    "                                             mu=mu,\n",
    "                                             ell=ell)\n",
    "\n",
    "game_options = GameOptions(GameType.QUADRATIC, quadratic_game_options)\n",
    "\n",
    "attack_options = AttackOptions(n_total=n_total,\n",
    "                               n_byzan=n_byzan,\n",
    "                               n_attacking=n_attacking,\n",
    "                               attack_type=attack_type,\n",
    "                               ipm_epsilon=ipm_epsilon,\n",
    "                               rn_sigma=rn_sigma)\n",
    "\n",
    "optimizer_options = OptimizerOptions(optimizer_type=optimizer_type,\n",
    "                                     lr=lr,\n",
    "                                     batch_size=batch_size,\n",
    "                                     aggregation_options=aggregation_options,\n",
    "                                     attack_options=attack_options,\n",
    "                                     sigmaC=sigmaC)\n",
    "\n",
    "config = TrainDistributedConfig(game=game_options,\n",
    "                                optimizer=optimizer_options,\n",
    "                                num_iter=n_iter,\n",
    "                                n_process=n_total)\n",
    "print(config)"
   ]
  },
  {
   "cell_type": "code",
   "execution_count": null,
   "id": "e5eb16cb-6ca9-4d8a-9e69-c337942a3122",
   "metadata": {},
   "outputs": [
    {
     "name": "stdout",
     "output_type": "stream",
     "text": [
      "Trying port 29497\n",
      "Matrix generated\n",
      "Bias generated\n",
      "Solution found\n",
      "161         \r"
     ]
    }
   ],
   "source": [
    "%time record = train(config)"
   ]
  },
  {
   "cell_type": "code",
   "execution_count": null,
   "id": "a0a809ff-3feb-4827-8bb3-9cfe1f51ae9e",
   "metadata": {},
   "outputs": [],
   "source": [
    "plt.figure()\n",
    "plt.yscale('log')\n",
    "record.load_metrics()\n",
    "# plt.figure()\n",
    "plt.plot(record.metrics.num_grad, record.metrics.dist,\n",
    "         label=\"%s %s lr=%.e\" % (config.optimizer.optimizer_type.value,\n",
    "                                 config.optimizer.aggregation_options.aggregator_type.value,\n",
    "                                 config.optimizer.lr))\n",
    "plt.yscale('log')\n",
    "plt.legend()\n",
    "plt.show()"
   ]
  },
  {
   "cell_type": "code",
   "execution_count": null,
   "id": "f42cc3d0-f47f-402f-b3bc-8a14d473b7d6",
   "metadata": {},
   "outputs": [],
   "source": [
    "record.metrics.dist"
   ]
  },
  {
   "cell_type": "code",
   "execution_count": null,
   "id": "8bbbc59a",
   "metadata": {},
   "outputs": [],
   "source": []
  }
 ],
 "metadata": {
  "kernelspec": {
   "display_name": "Python 3 (ipykernel)",
   "language": "python",
   "name": "python3"
  },
  "language_info": {
   "codemirror_mode": {
    "name": "ipython",
    "version": 3
   },
   "file_extension": ".py",
   "mimetype": "text/x-python",
   "name": "python",
   "nbconvert_exporter": "python",
   "pygments_lexer": "ipython3",
   "version": "3.9.15"
  },
  "widgets": {
   "application/vnd.jupyter.widget-state+json": {
    "state": {},
    "version_major": 2,
    "version_minor": 0
   }
  }
 },
 "nbformat": 4,
 "nbformat_minor": 5
}
